{
 "cells": [
  {
   "cell_type": "markdown",
   "source": [
    "데이터셋 폴더에서 일정 비율로 train, test set으로 나누는 코드"
   ],
   "metadata": {}
  },
  {
   "cell_type": "code",
   "execution_count": 1,
   "source": [
    "import os\r\n",
    "from glob import glob\r\n",
    "from sklearn.model_selection import train_test_split\r\n",
    "\r\n",
    "os.getcwd()"
   ],
   "outputs": [
    {
     "output_type": "execute_result",
     "data": {
      "text/plain": [
       "'c:\\\\Users\\\\User\\\\Documents\\\\GitHub\\\\EfficientDet'"
      ]
     },
     "metadata": {},
     "execution_count": 1
    }
   ],
   "metadata": {}
  },
  {
   "cell_type": "code",
   "execution_count": 2,
   "source": [
    "dataset_dir=os.path.join(os.getcwd(),'Data') #데이터 셋까지의 경로\r\n",
    "print(dataset_dir)"
   ],
   "outputs": [
    {
     "output_type": "stream",
     "name": "stdout",
     "text": [
      "c:\\Users\\User\\Documents\\GitHub\\EfficientDet\\Data\n"
     ]
    }
   ],
   "metadata": {}
  },
  {
   "cell_type": "code",
   "execution_count": 18,
   "source": [
    "class_dir=[] #각 클래스의 경로 저장\r\n",
    "for n in class_list:\r\n",
    "    temp=dataset_dir+'/'+n\r\n",
    "    class_dir.append(temp)\r\n",
    "\r\n",
    "\r\n",
    "print(class_dir)\r\n",
    "image_paths_0=glob(os.path.join(dataset_dir,class_dir[0], '*.png'))\r\n",
    "image_paths_1=glob(os.path.join(dataset_dir,class_dir[1], '*.png'))\r\n",
    "image_paths_2=glob(os.path.join(dataset_dir,class_dir[2], '*.png'))"
   ],
   "outputs": [
    {
     "output_type": "stream",
     "name": "stdout",
     "text": [
      "['/home/plass-heesu/KimHeeSu/munsu/Hanssem/Hanssem_data/수납장', '/home/plass-heesu/KimHeeSu/munsu/Hanssem/Hanssem_data/러그', '/home/plass-heesu/KimHeeSu/munsu/Hanssem/Hanssem_data/침대']\n"
     ]
    }
   ],
   "metadata": {}
  },
  {
   "cell_type": "code",
   "execution_count": 19,
   "source": [
    "#class 0 수납장\r\n",
    "\r\n",
    "train_df, test_df=train_test_split(image_paths_0, test_size=0.2, random_state=2021)\r\n",
    "print(train_df[:5])\r\n",
    "print(len(train_df))\r\n",
    "print(len(test_df))"
   ],
   "outputs": [
    {
     "output_type": "stream",
     "name": "stdout",
     "text": [
      "['/home/plass-heesu/KimHeeSu/munsu/Hanssem/Hanssem_data/수납장/373545.png', '/home/plass-heesu/KimHeeSu/munsu/Hanssem/Hanssem_data/수납장/373036.png', '/home/plass-heesu/KimHeeSu/munsu/Hanssem/Hanssem_data/수납장/250186.png', '/home/plass-heesu/KimHeeSu/munsu/Hanssem/Hanssem_data/수납장/439404.png', '/home/plass-heesu/KimHeeSu/munsu/Hanssem/Hanssem_data/수납장/607333.png']\n",
      "1252\n",
      "313\n"
     ]
    }
   ],
   "metadata": {}
  },
  {
   "cell_type": "code",
   "execution_count": 20,
   "source": [
    "import shutil\r\n",
    "\r\n",
    "train_png_dst=os.path.join(os.getcwd(), 'Data','train','PngImages')\r\n",
    "train_xml_dst=os.path.join(os.getcwd(), 'Data','train','XmlFiles')\r\n",
    "test_png_dst=os.path.join(os.getcwd(), 'Data','test','PngImages')\r\n",
    "test_xml_dst=os.path.join(os.getcwd(), 'Data','test','XmlFiles')\r\n",
    "\r\n",
    "for i in train_df:\r\n",
    "    xml_path=i.replace('.png','.xml')\r\n",
    "    shutil.copy2(i,train_png_dst)\r\n",
    "    shutil.copy2(xml_path,train_xml_dst)\r\n",
    "\r\n",
    "print(len(os.listdir(train_png_dst)))\r\n",
    "print(len(os.listdir(train_xml_dst)))\r\n",
    "\r\n",
    "for i in test_df:\r\n",
    "    xml_path=i.replace('.png','.xml')\r\n",
    "    shutil.copy2(i,test_png_dst)\r\n",
    "    shutil.copy2(xml_path,test_xml_dst)\r\n",
    "\r\n",
    "print(len(os.listdir(test_png_dst)))\r\n",
    "print(len(os.listdir(test_xml_dst)))"
   ],
   "outputs": [
    {
     "output_type": "stream",
     "name": "stdout",
     "text": [
      "1336\n",
      "1335\n",
      "313\n",
      "313\n"
     ]
    }
   ],
   "metadata": {}
  },
  {
   "cell_type": "code",
   "execution_count": 28,
   "source": [
    "#파일 확인 용\r\n",
    "png_path=glob('./Data/train/PngImages/*.png')\r\n",
    "xml_paths=glob('./Data/train/XmlFiles/*.xml')\r\n",
    "\r\n",
    "for temp in png_path:\r\n",
    "    temp=temp.replace('PngImages','XmlFiles')\r\n",
    "    temp=temp.replace('.png','.xml')\r\n",
    "    if temp not in xml_paths:\r\n",
    "        print(temp,\"가 없습니다\")\r\n",
    "\r\n",
    "\r\n",
    "print(len(os.listdir(train_png_dst)))\r\n",
    "print(len(os.listdir(train_xml_dst)))\r\n",
    "print(len(os.listdir(test_png_dst)))\r\n",
    "print(len(os.listdir(test_xml_dst)))"
   ],
   "outputs": [
    {
     "output_type": "stream",
     "name": "stdout",
     "text": [
      "1335\n",
      "1335\n",
      "313\n",
      "313\n"
     ]
    }
   ],
   "metadata": {}
  },
  {
   "cell_type": "code",
   "execution_count": 30,
   "source": [
    "#class 1 러그\r\n",
    "\r\n",
    "train_df, test_df=train_test_split(image_paths_1, test_size=0.2, random_state=2021)\r\n",
    "print(train_df[:3])\r\n",
    "print(len(train_df))\r\n",
    "print(len(test_df))\r\n",
    "\r\n",
    "train_png_dst=os.path.join(os.getcwd(), 'Data','train','PngImages')\r\n",
    "train_xml_dst=os.path.join(os.getcwd(), 'Data','train','XmlFiles')\r\n",
    "test_png_dst=os.path.join(os.getcwd(), 'Data','test','PngImages')\r\n",
    "test_xml_dst=os.path.join(os.getcwd(), 'Data','test','XmlFiles')\r\n",
    "\r\n",
    "for i in train_df:\r\n",
    "    xml_path=i.replace('.png','.xml')\r\n",
    "    shutil.copy2(i,train_png_dst)\r\n",
    "    shutil.copy2(xml_path,train_xml_dst)\r\n",
    "\r\n",
    "print(len(os.listdir(train_png_dst)))\r\n",
    "print(len(os.listdir(train_xml_dst)))\r\n",
    "\r\n",
    "for i in test_df:\r\n",
    "    xml_path=i.replace('.png','.xml')\r\n",
    "    shutil.copy2(i,test_png_dst)\r\n",
    "    shutil.copy2(xml_path,test_xml_dst)\r\n",
    "\r\n",
    "print(len(os.listdir(test_png_dst)))\r\n",
    "print(len(os.listdir(test_xml_dst)))"
   ],
   "outputs": [
    {
     "output_type": "stream",
     "name": "stdout",
     "text": [
      "['/home/plass-heesu/KimHeeSu/munsu/Hanssem/Hanssem_data/러그/255175.png', '/home/plass-heesu/KimHeeSu/munsu/Hanssem/Hanssem_data/러그/637084.png', '/home/plass-heesu/KimHeeSu/munsu/Hanssem/Hanssem_data/러그/480965.png']\n",
      "763\n",
      "191\n",
      "2098\n",
      "2098\n",
      "504\n",
      "504\n"
     ]
    }
   ],
   "metadata": {}
  },
  {
   "cell_type": "code",
   "execution_count": 31,
   "source": [
    "#class 2 침대\r\n",
    "\r\n",
    "train_df, test_df=train_test_split(image_paths_2, test_size=0.2, random_state=2021)\r\n",
    "print(train_df[:3])\r\n",
    "print(len(train_df))\r\n",
    "print(len(test_df))\r\n",
    "\r\n",
    "train_png_dst=os.path.join(os.getcwd(), 'Data','train','PngImages')\r\n",
    "train_xml_dst=os.path.join(os.getcwd(), 'Data','train','XmlFiles')\r\n",
    "test_png_dst=os.path.join(os.getcwd(), 'Data','test','PngImages')\r\n",
    "test_xml_dst=os.path.join(os.getcwd(), 'Data','test','XmlFiles')\r\n",
    "\r\n",
    "for i in train_df:\r\n",
    "    xml_path=i.replace('.png','.xml')\r\n",
    "    shutil.copy2(i,train_png_dst)\r\n",
    "    shutil.copy2(xml_path,train_xml_dst)\r\n",
    "\r\n",
    "print(len(os.listdir(train_png_dst)))\r\n",
    "print(len(os.listdir(train_xml_dst)))\r\n",
    "\r\n",
    "for i in test_df:\r\n",
    "    xml_path=i.replace('.png','.xml')\r\n",
    "    shutil.copy2(i,test_png_dst)\r\n",
    "    shutil.copy2(xml_path,test_xml_dst)\r\n",
    "\r\n",
    "print(len(os.listdir(test_png_dst)))\r\n",
    "print(len(os.listdir(test_xml_dst)))"
   ],
   "outputs": [
    {
     "output_type": "stream",
     "name": "stdout",
     "text": [
      "['/home/plass-heesu/KimHeeSu/munsu/Hanssem/Hanssem_data/침대/347331.png', '/home/plass-heesu/KimHeeSu/munsu/Hanssem/Hanssem_data/침대/392663.png', '/home/plass-heesu/KimHeeSu/munsu/Hanssem/Hanssem_data/침대/548493.png']\n",
      "1025\n",
      "257\n",
      "3123\n",
      "3123\n",
      "761\n",
      "761\n"
     ]
    }
   ],
   "metadata": {}
  },
  {
   "cell_type": "code",
   "execution_count": null,
   "source": [],
   "outputs": [],
   "metadata": {}
  }
 ],
 "metadata": {
  "orig_nbformat": 4,
  "language_info": {
   "name": "python",
   "version": "3.7.7",
   "mimetype": "text/x-python",
   "codemirror_mode": {
    "name": "ipython",
    "version": 3
   },
   "pygments_lexer": "ipython3",
   "nbconvert_exporter": "python",
   "file_extension": ".py"
  },
  "kernelspec": {
   "name": "python3",
   "display_name": "Python 3.7.7 64-bit ('base': conda)"
  },
  "interpreter": {
   "hash": "8fac594bfae6525c0c41b4041d2d72effa188cc8ead05f81b1fab2bb098927fb"
  }
 },
 "nbformat": 4,
 "nbformat_minor": 2
}
{
 "cells": [
  {
   "cell_type": "code",
   "execution_count": null,
   "source": [
    "'''\n",
    "    사용한 데이터 ->뒤에 숫자는 png+xml파일의 수\n",
    "    면러그_502 ->502\n",
    "    베이직러그_343 ->686\n",
    "    샤기카페트_360 ->720\n",
    "    수납침대_1358 ->1358\n",
    "    원목침대_115 ->230\n",
    "    원목침대_160 ->320\n",
    "    원목침대_656 ->656\n",
    "    화장대_547 ->414(파일 쌍 이루도록 해둠)\n",
    "    화장대_848 ->848\n",
    "    서랍장_934 ->1868(파일 쌍 이루도록 해둠)\n",
    "'''"
   ],
   "outputs": [],
   "metadata": {}
  },
  {
   "cell_type": "code",
   "execution_count": 2,
   "source": [
    "import os\n",
    "from glob import glob\n",
    "from sklearn.model_selection import train_test_split\n",
    "\n",
    "os.getcwd()"
   ],
   "outputs": [
    {
     "output_type": "execute_result",
     "data": {
      "text/plain": [
       "'/home/plass-heesu/KimHeeSu/munsu/Hanssem'"
      ]
     },
     "metadata": {},
     "execution_count": 2
    }
   ],
   "metadata": {}
  },
  {
   "cell_type": "code",
   "execution_count": 12,
   "source": [
    "dataset_dir=os.path.join(os.getcwd(),'Hanssem_data') #데이터 셋까지의 경로\n",
    "print(dataset_dir)\n",
    "class_list=os.listdir(dataset_dir) #클래스를 전부 class_list에 입력\n",
    "class_num=len(class_list)\n",
    "print(class_list)\n",
    "print(class_num)"
   ],
   "outputs": [
    {
     "output_type": "stream",
     "name": "stdout",
     "text": [
      "/home/plass-heesu/KimHeeSu/munsu/Hanssem/Hanssem_data\n",
      "['수납장', '러그', '침대']\n",
      "3\n"
     ]
    }
   ],
   "metadata": {}
  },
  {
   "cell_type": "code",
   "execution_count": 18,
   "source": [
    "class_dir=[] #각 클래스의 경로 저장\n",
    "for n in class_list:\n",
    "    temp=dataset_dir+'/'+n\n",
    "    class_dir.append(temp)\n",
    "\n",
    "\n",
    "print(class_dir)\n",
    "image_paths_0=glob(os.path.join(dataset_dir,class_dir[0], '*.png'))\n",
    "image_paths_1=glob(os.path.join(dataset_dir,class_dir[1], '*.png'))\n",
    "image_paths_2=glob(os.path.join(dataset_dir,class_dir[2], '*.png'))"
   ],
   "outputs": [
    {
     "output_type": "stream",
     "name": "stdout",
     "text": [
      "['/home/plass-heesu/KimHeeSu/munsu/Hanssem/Hanssem_data/수납장', '/home/plass-heesu/KimHeeSu/munsu/Hanssem/Hanssem_data/러그', '/home/plass-heesu/KimHeeSu/munsu/Hanssem/Hanssem_data/침대']\n"
     ]
    }
   ],
   "metadata": {}
  },
  {
   "cell_type": "code",
   "execution_count": 19,
   "source": [
    "#class 0 수납장\n",
    "\n",
    "train_df, test_df=train_test_split(image_paths_0, test_size=0.2, random_state=2021)\n",
    "print(train_df[:5])\n",
    "print(len(train_df))\n",
    "print(len(test_df))"
   ],
   "outputs": [
    {
     "output_type": "stream",
     "name": "stdout",
     "text": [
      "['/home/plass-heesu/KimHeeSu/munsu/Hanssem/Hanssem_data/수납장/373545.png', '/home/plass-heesu/KimHeeSu/munsu/Hanssem/Hanssem_data/수납장/373036.png', '/home/plass-heesu/KimHeeSu/munsu/Hanssem/Hanssem_data/수납장/250186.png', '/home/plass-heesu/KimHeeSu/munsu/Hanssem/Hanssem_data/수납장/439404.png', '/home/plass-heesu/KimHeeSu/munsu/Hanssem/Hanssem_data/수납장/607333.png']\n",
      "1252\n",
      "313\n"
     ]
    }
   ],
   "metadata": {}
  },
  {
   "cell_type": "code",
   "execution_count": 20,
   "source": [
    "import shutil\n",
    "\n",
    "train_png_dst=os.path.join(os.getcwd(), 'Data','train','PngImages')\n",
    "train_xml_dst=os.path.join(os.getcwd(), 'Data','train','XmlFiles')\n",
    "test_png_dst=os.path.join(os.getcwd(), 'Data','test','PngImages')\n",
    "test_xml_dst=os.path.join(os.getcwd(), 'Data','test','XmlFiles')\n",
    "\n",
    "for i in train_df:\n",
    "    xml_path=i.replace('.png','.xml')\n",
    "    shutil.copy2(i,train_png_dst)\n",
    "    shutil.copy2(xml_path,train_xml_dst)\n",
    "\n",
    "print(len(os.listdir(train_png_dst)))\n",
    "print(len(os.listdir(train_xml_dst)))\n",
    "\n",
    "for i in test_df:\n",
    "    xml_path=i.replace('.png','.xml')\n",
    "    shutil.copy2(i,test_png_dst)\n",
    "    shutil.copy2(xml_path,test_xml_dst)\n",
    "\n",
    "print(len(os.listdir(test_png_dst)))\n",
    "print(len(os.listdir(test_xml_dst)))"
   ],
   "outputs": [
    {
     "output_type": "stream",
     "name": "stdout",
     "text": [
      "1336\n",
      "1335\n",
      "313\n",
      "313\n"
     ]
    }
   ],
   "metadata": {}
  },
  {
   "cell_type": "code",
   "execution_count": 28,
   "source": [
    "#파일 확인 용\n",
    "png_path=glob('./Data/train/PngImages/*.png')\n",
    "xml_paths=glob('./Data/train/XmlFiles/*.xml')\n",
    "\n",
    "for temp in png_path:\n",
    "    temp=temp.replace('PngImages','XmlFiles')\n",
    "    temp=temp.replace('.png','.xml')\n",
    "    if temp not in xml_paths:\n",
    "        print(temp,\"가 없습니다\")\n",
    "\n",
    "\n",
    "print(len(os.listdir(train_png_dst)))\n",
    "print(len(os.listdir(train_xml_dst)))\n",
    "print(len(os.listdir(test_png_dst)))\n",
    "print(len(os.listdir(test_xml_dst)))"
   ],
   "outputs": [
    {
     "output_type": "stream",
     "name": "stdout",
     "text": [
      "1335\n",
      "1335\n",
      "313\n",
      "313\n"
     ]
    }
   ],
   "metadata": {}
  },
  {
   "cell_type": "code",
   "execution_count": 30,
   "source": [
    "#class 1 러그\n",
    "\n",
    "train_df, test_df=train_test_split(image_paths_1, test_size=0.2, random_state=2021)\n",
    "print(train_df[:3])\n",
    "print(len(train_df))\n",
    "print(len(test_df))\n",
    "\n",
    "train_png_dst=os.path.join(os.getcwd(), 'Data','train','PngImages')\n",
    "train_xml_dst=os.path.join(os.getcwd(), 'Data','train','XmlFiles')\n",
    "test_png_dst=os.path.join(os.getcwd(), 'Data','test','PngImages')\n",
    "test_xml_dst=os.path.join(os.getcwd(), 'Data','test','XmlFiles')\n",
    "\n",
    "for i in train_df:\n",
    "    xml_path=i.replace('.png','.xml')\n",
    "    shutil.copy2(i,train_png_dst)\n",
    "    shutil.copy2(xml_path,train_xml_dst)\n",
    "\n",
    "print(len(os.listdir(train_png_dst)))\n",
    "print(len(os.listdir(train_xml_dst)))\n",
    "\n",
    "for i in test_df:\n",
    "    xml_path=i.replace('.png','.xml')\n",
    "    shutil.copy2(i,test_png_dst)\n",
    "    shutil.copy2(xml_path,test_xml_dst)\n",
    "\n",
    "print(len(os.listdir(test_png_dst)))\n",
    "print(len(os.listdir(test_xml_dst)))"
   ],
   "outputs": [
    {
     "output_type": "stream",
     "name": "stdout",
     "text": [
      "['/home/plass-heesu/KimHeeSu/munsu/Hanssem/Hanssem_data/러그/255175.png', '/home/plass-heesu/KimHeeSu/munsu/Hanssem/Hanssem_data/러그/637084.png', '/home/plass-heesu/KimHeeSu/munsu/Hanssem/Hanssem_data/러그/480965.png']\n",
      "763\n",
      "191\n",
      "2098\n",
      "2098\n",
      "504\n",
      "504\n"
     ]
    }
   ],
   "metadata": {}
  },
  {
   "cell_type": "code",
   "execution_count": 31,
   "source": [
    "#class 2 침대\n",
    "\n",
    "train_df, test_df=train_test_split(image_paths_2, test_size=0.2, random_state=2021)\n",
    "print(train_df[:3])\n",
    "print(len(train_df))\n",
    "print(len(test_df))\n",
    "\n",
    "train_png_dst=os.path.join(os.getcwd(), 'Data','train','PngImages')\n",
    "train_xml_dst=os.path.join(os.getcwd(), 'Data','train','XmlFiles')\n",
    "test_png_dst=os.path.join(os.getcwd(), 'Data','test','PngImages')\n",
    "test_xml_dst=os.path.join(os.getcwd(), 'Data','test','XmlFiles')\n",
    "\n",
    "for i in train_df:\n",
    "    xml_path=i.replace('.png','.xml')\n",
    "    shutil.copy2(i,train_png_dst)\n",
    "    shutil.copy2(xml_path,train_xml_dst)\n",
    "\n",
    "print(len(os.listdir(train_png_dst)))\n",
    "print(len(os.listdir(train_xml_dst)))\n",
    "\n",
    "for i in test_df:\n",
    "    xml_path=i.replace('.png','.xml')\n",
    "    shutil.copy2(i,test_png_dst)\n",
    "    shutil.copy2(xml_path,test_xml_dst)\n",
    "\n",
    "print(len(os.listdir(test_png_dst)))\n",
    "print(len(os.listdir(test_xml_dst)))"
   ],
   "outputs": [
    {
     "output_type": "stream",
     "name": "stdout",
     "text": [
      "['/home/plass-heesu/KimHeeSu/munsu/Hanssem/Hanssem_data/침대/347331.png', '/home/plass-heesu/KimHeeSu/munsu/Hanssem/Hanssem_data/침대/392663.png', '/home/plass-heesu/KimHeeSu/munsu/Hanssem/Hanssem_data/침대/548493.png']\n",
      "1025\n",
      "257\n",
      "3123\n",
      "3123\n",
      "761\n",
      "761\n"
     ]
    }
   ],
   "metadata": {}
  },
  {
   "cell_type": "code",
   "execution_count": null,
   "source": [],
   "outputs": [],
   "metadata": {}
  }
 ],
 "metadata": {
  "orig_nbformat": 4,
  "language_info": {
   "name": "python",
   "version": "3.7.10",
   "mimetype": "text/x-python",
   "codemirror_mode": {
    "name": "ipython",
    "version": 3
   },
   "pygments_lexer": "ipython3",
   "nbconvert_exporter": "python",
   "file_extension": ".py"
  },
  "kernelspec": {
   "name": "python3",
   "display_name": "Python 3.7.10 64-bit ('munsutf2.4': conda)"
  },
  "interpreter": {
   "hash": "4773b342024c3ddfc468906d2951ce23c98dba948dfed0d75f23dbe62a25705b"
  }
 },
 "nbformat": 4,
 "nbformat_minor": 2
}